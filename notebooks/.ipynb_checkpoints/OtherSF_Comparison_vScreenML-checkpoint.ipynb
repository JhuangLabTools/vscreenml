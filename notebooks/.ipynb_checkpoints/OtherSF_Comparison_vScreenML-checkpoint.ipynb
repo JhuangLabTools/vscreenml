{
 "cells": [
  {
   "cell_type": "code",
   "execution_count": 2,
   "metadata": {},
   "outputs": [],
   "source": [
    "import os\n",
    "import pickle\n",
    "import pandas as pd\n",
    "import numpy as np\n",
    "from numpy import linspace\n",
    "import xgboost as xgb\n",
    "import seaborn as sns\n",
    "from xgboost.sklearn import XGBClassifier\n",
    "import numpy as np\n",
    "import matplotlib.pyplot as plt\n",
    "from sklearn import metrics\n",
    "from sklearn.metrics import roc_curve, auc\n",
    "import matplotlib.style as style\n",
    "from sklearn.metrics import confusion_matrix\n",
    "import warnings\n",
    "\n",
    "%matplotlib inline \n",
    "warnings.filterwarnings('ignore')\n",
    "os.environ['KMP_DUPLICATE_LIB_OK']='True'\n",
    "target = 'Label'\n",
    "IDcol = 'Name'"
   ]
  },
  {
   "cell_type": "code",
   "execution_count": 3,
   "metadata": {},
   "outputs": [
    {
     "name": "stderr",
     "output_type": "stream",
     "text": [
      "ERROR:root:Internal Python error in the inspect module.\n",
      "Below is the traceback from this internal error.\n",
      "\n"
     ]
    },
    {
     "name": "stdout",
     "output_type": "stream",
     "text": [
      "Traceback (most recent call last):\n",
      "  File \"/Users/yusufadeshina/miniconda2/envs/rdkit_env/lib/python3.6/site-packages/IPython/core/interactiveshell.py\", line 3326, in run_code\n",
      "    exec(code_obj, self.user_global_ns, self.user_ns)\n",
      "  File \"<ipython-input-3-fad52ab8ad02>\", line 1, in <module>\n",
      "    from configuration import figures_config as cfg\n",
      "ModuleNotFoundError: No module named 'configuration'\n",
      "\n",
      "During handling of the above exception, another exception occurred:\n",
      "\n",
      "Traceback (most recent call last):\n",
      "  File \"/Users/yusufadeshina/miniconda2/envs/rdkit_env/lib/python3.6/site-packages/IPython/core/interactiveshell.py\", line 2040, in showtraceback\n",
      "    stb = value._render_traceback_()\n",
      "AttributeError: 'ModuleNotFoundError' object has no attribute '_render_traceback_'\n",
      "\n",
      "During handling of the above exception, another exception occurred:\n",
      "\n",
      "Traceback (most recent call last):\n",
      "  File \"/Users/yusufadeshina/miniconda2/envs/rdkit_env/lib/python3.6/site-packages/IPython/core/ultratb.py\", line 1101, in get_records\n",
      "    return _fixed_getinnerframes(etb, number_of_lines_of_context, tb_offset)\n",
      "  File \"/Users/yusufadeshina/miniconda2/envs/rdkit_env/lib/python3.6/site-packages/IPython/core/ultratb.py\", line 319, in wrapped\n",
      "    return f(*args, **kwargs)\n",
      "  File \"/Users/yusufadeshina/miniconda2/envs/rdkit_env/lib/python3.6/site-packages/IPython/core/ultratb.py\", line 353, in _fixed_getinnerframes\n",
      "    records = fix_frame_records_filenames(inspect.getinnerframes(etb, context))\n",
      "  File \"/Users/yusufadeshina/miniconda2/envs/rdkit_env/lib/python3.6/inspect.py\", line 1490, in getinnerframes\n",
      "    frameinfo = (tb.tb_frame,) + getframeinfo(tb, context)\n",
      "  File \"/Users/yusufadeshina/miniconda2/envs/rdkit_env/lib/python3.6/inspect.py\", line 1448, in getframeinfo\n",
      "    filename = getsourcefile(frame) or getfile(frame)\n",
      "  File \"/Users/yusufadeshina/miniconda2/envs/rdkit_env/lib/python3.6/inspect.py\", line 696, in getsourcefile\n",
      "    if getattr(getmodule(object, filename), '__loader__', None) is not None:\n",
      "  File \"/Users/yusufadeshina/miniconda2/envs/rdkit_env/lib/python3.6/inspect.py\", line 725, in getmodule\n",
      "    file = getabsfile(object, _filename)\n",
      "  File \"/Users/yusufadeshina/miniconda2/envs/rdkit_env/lib/python3.6/inspect.py\", line 709, in getabsfile\n",
      "    return os.path.normcase(os.path.abspath(_filename))\n",
      "  File \"/Users/yusufadeshina/miniconda2/envs/rdkit_env/lib/python3.6/posixpath.py\", line 383, in abspath\n",
      "    cwd = os.getcwd()\n",
      "FileNotFoundError: [Errno 2] No such file or directory\n"
     ]
    },
    {
     "ename": "ModuleNotFoundError",
     "evalue": "No module named 'configuration'",
     "output_type": "error",
     "traceback": [
      "\u001b[0;31m---------------------------------------------------------------------------\u001b[0m"
     ]
    }
   ],
   "source": [
    "from configuration import figures_config as cfg"
   ]
  },
  {
   "cell_type": "code",
   "execution_count": 3,
   "metadata": {},
   "outputs": [],
   "source": [
    "style.use('seaborn-white')\n",
    "#style.available  (to see the styles available)"
   ]
  },
  {
   "cell_type": "code",
   "execution_count": 4,
   "metadata": {},
   "outputs": [],
   "source": [
    "from matplotlib import rcParams\n",
    "\n",
    "# figure size in inches\n",
    "rcParams['figure.figsize'] = 11.7,8.27"
   ]
  },
  {
   "cell_type": "markdown",
   "metadata": {},
   "source": [
    "### PPI Benchmark"
   ]
  },
  {
   "cell_type": "code",
   "execution_count": 5,
   "metadata": {},
   "outputs": [],
   "source": [
    "#PPI target not present in our training set\n",
    "ppi_tag = ['1PW6','1R6N','1Y2F','2AZ5','2KP8','3IN7','3O5N','3VKX','3ZRC','4G55']"
   ]
  },
  {
   "cell_type": "code",
   "execution_count": 6,
   "metadata": {},
   "outputs": [],
   "source": [
    "#oddt\n",
    "def predict_rank_active_other(test_x,score,name):\n",
    "\n",
    "    no_of_points =float(len(test_x))\n",
    "    if score != 'vina_affinity':\n",
    "        sort_final = test_x.sort_values(by=score, ascending=False)\n",
    "    else:\n",
    "        sort_final = test_x.sort_values(by=score, ascending=True)\n",
    "    rank=list(sort_final[\"Label\"]).index(1) +1\n",
    "    #print \"Rank for\", name , \"=\", rank\n",
    "    print ('Rank for the active native ligand {} is {}'.format(name, rank+1))\n",
    "    #print sort_final.head()\n",
    "    return rank"
   ]
  },
  {
   "cell_type": "code",
   "execution_count": 8,
   "metadata": {},
   "outputs": [
    {
     "name": "stdout",
     "output_type": "stream",
     "text": [
      "||||||||||||||||||||||||||||||Processing nnscore ||||||||||||||||||||||||||||||||||||| \n",
      "\n",
      "Rank for the active native ligand /Users/yusufadeshina/Downloads/ppi_benchmark/final_1PW6_all_rf_vina_random2000.csv is 30\n",
      "Rank for the active native ligand /Users/yusufadeshina/Downloads/ppi_benchmark/final_1R6N_all_rf_vina_random2000.csv is 205\n",
      "Rank for the active native ligand /Users/yusufadeshina/Downloads/ppi_benchmark/final_1Y2F_all_rf_vina_random2000.csv is 1823\n",
      "Rank for the active native ligand /Users/yusufadeshina/Downloads/ppi_benchmark/final_2AZ5_all_rf_vina_random2000.csv is 1905\n",
      "Rank for the active native ligand /Users/yusufadeshina/Downloads/ppi_benchmark/final_2KP8_all_rf_vina_random2000.csv is 1616\n",
      "Rank for the active native ligand /Users/yusufadeshina/Downloads/ppi_benchmark/final_3IN7_all_rf_vina_random2000.csv is 1650\n",
      "Rank for the active native ligand /Users/yusufadeshina/Downloads/ppi_benchmark/final_3O5N_all_rf_vina_random2000.csv is 1996\n",
      "Rank for the active native ligand /Users/yusufadeshina/Downloads/ppi_benchmark/final_3VKX_all_rf_vina_random2000.csv is 1986\n",
      "Rank for the active native ligand /Users/yusufadeshina/Downloads/ppi_benchmark/final_3ZRC_all_rf_vina_random2000.csv is 1983\n",
      "Rank for the active native ligand /Users/yusufadeshina/Downloads/ppi_benchmark/final_4G55_all_rf_vina_random2000.csv is 1348\n",
      "||||||||||||||||||||||||||||||Processing rfscore_v1 ||||||||||||||||||||||||||||||||||||| \n",
      "\n",
      "Rank for the active native ligand /Users/yusufadeshina/Downloads/ppi_benchmark/final_1PW6_all_rf_vina_random2000.csv is 103\n",
      "Rank for the active native ligand /Users/yusufadeshina/Downloads/ppi_benchmark/final_1R6N_all_rf_vina_random2000.csv is 514\n",
      "Rank for the active native ligand /Users/yusufadeshina/Downloads/ppi_benchmark/final_1Y2F_all_rf_vina_random2000.csv is 334\n",
      "Rank for the active native ligand /Users/yusufadeshina/Downloads/ppi_benchmark/final_2AZ5_all_rf_vina_random2000.csv is 283\n",
      "Rank for the active native ligand /Users/yusufadeshina/Downloads/ppi_benchmark/final_2KP8_all_rf_vina_random2000.csv is 741\n",
      "Rank for the active native ligand /Users/yusufadeshina/Downloads/ppi_benchmark/final_3IN7_all_rf_vina_random2000.csv is 614\n",
      "Rank for the active native ligand /Users/yusufadeshina/Downloads/ppi_benchmark/final_3O5N_all_rf_vina_random2000.csv is 1848\n",
      "Rank for the active native ligand /Users/yusufadeshina/Downloads/ppi_benchmark/final_3VKX_all_rf_vina_random2000.csv is 1967\n",
      "Rank for the active native ligand /Users/yusufadeshina/Downloads/ppi_benchmark/final_3ZRC_all_rf_vina_random2000.csv is 1915\n",
      "Rank for the active native ligand /Users/yusufadeshina/Downloads/ppi_benchmark/final_4G55_all_rf_vina_random2000.csv is 1545\n",
      "||||||||||||||||||||||||||||||Processing rfscore_v3 ||||||||||||||||||||||||||||||||||||| \n",
      "\n",
      "Rank for the active native ligand /Users/yusufadeshina/Downloads/ppi_benchmark/final_1PW6_all_rf_vina_random2000.csv is 146\n",
      "Rank for the active native ligand /Users/yusufadeshina/Downloads/ppi_benchmark/final_1R6N_all_rf_vina_random2000.csv is 241\n",
      "Rank for the active native ligand /Users/yusufadeshina/Downloads/ppi_benchmark/final_1Y2F_all_rf_vina_random2000.csv is 512\n",
      "Rank for the active native ligand /Users/yusufadeshina/Downloads/ppi_benchmark/final_2AZ5_all_rf_vina_random2000.csv is 629\n",
      "Rank for the active native ligand /Users/yusufadeshina/Downloads/ppi_benchmark/final_2KP8_all_rf_vina_random2000.csv is 1146\n",
      "Rank for the active native ligand /Users/yusufadeshina/Downloads/ppi_benchmark/final_3IN7_all_rf_vina_random2000.csv is 437\n",
      "Rank for the active native ligand /Users/yusufadeshina/Downloads/ppi_benchmark/final_3O5N_all_rf_vina_random2000.csv is 1919\n",
      "Rank for the active native ligand /Users/yusufadeshina/Downloads/ppi_benchmark/final_3VKX_all_rf_vina_random2000.csv is 1920\n",
      "Rank for the active native ligand /Users/yusufadeshina/Downloads/ppi_benchmark/final_3ZRC_all_rf_vina_random2000.csv is 1897\n",
      "Rank for the active native ligand /Users/yusufadeshina/Downloads/ppi_benchmark/final_4G55_all_rf_vina_random2000.csv is 1516\n",
      "||||||||||||||||||||||||||||||Processing rfscore_v2 ||||||||||||||||||||||||||||||||||||| \n",
      "\n",
      "Rank for the active native ligand /Users/yusufadeshina/Downloads/ppi_benchmark/final_1PW6_all_rf_vina_random2000.csv is 93\n",
      "Rank for the active native ligand /Users/yusufadeshina/Downloads/ppi_benchmark/final_1R6N_all_rf_vina_random2000.csv is 243\n",
      "Rank for the active native ligand /Users/yusufadeshina/Downloads/ppi_benchmark/final_1Y2F_all_rf_vina_random2000.csv is 251\n",
      "Rank for the active native ligand /Users/yusufadeshina/Downloads/ppi_benchmark/final_2AZ5_all_rf_vina_random2000.csv is 250\n",
      "Rank for the active native ligand /Users/yusufadeshina/Downloads/ppi_benchmark/final_2KP8_all_rf_vina_random2000.csv is 1535\n",
      "Rank for the active native ligand /Users/yusufadeshina/Downloads/ppi_benchmark/final_3IN7_all_rf_vina_random2000.csv is 763\n",
      "Rank for the active native ligand /Users/yusufadeshina/Downloads/ppi_benchmark/final_3O5N_all_rf_vina_random2000.csv is 1814\n",
      "Rank for the active native ligand /Users/yusufadeshina/Downloads/ppi_benchmark/final_3VKX_all_rf_vina_random2000.csv is 1971\n",
      "Rank for the active native ligand /Users/yusufadeshina/Downloads/ppi_benchmark/final_3ZRC_all_rf_vina_random2000.csv is 1982\n",
      "Rank for the active native ligand /Users/yusufadeshina/Downloads/ppi_benchmark/final_4G55_all_rf_vina_random2000.csv is 1833\n",
      "||||||||||||||||||||||||||||||Processing PLEClinear_p5_l1_s65536 ||||||||||||||||||||||||||||||||||||| \n",
      "\n",
      "Rank for the active native ligand /Users/yusufadeshina/Downloads/ppi_benchmark/final_1PW6_all_rf_vina_random2000.csv is 636\n",
      "Rank for the active native ligand /Users/yusufadeshina/Downloads/ppi_benchmark/final_1R6N_all_rf_vina_random2000.csv is 31\n",
      "Rank for the active native ligand /Users/yusufadeshina/Downloads/ppi_benchmark/final_1Y2F_all_rf_vina_random2000.csv is 306\n",
      "Rank for the active native ligand /Users/yusufadeshina/Downloads/ppi_benchmark/final_2AZ5_all_rf_vina_random2000.csv is 559\n",
      "Rank for the active native ligand /Users/yusufadeshina/Downloads/ppi_benchmark/final_2KP8_all_rf_vina_random2000.csv is 1338\n",
      "Rank for the active native ligand /Users/yusufadeshina/Downloads/ppi_benchmark/final_3IN7_all_rf_vina_random2000.csv is 1638\n",
      "Rank for the active native ligand /Users/yusufadeshina/Downloads/ppi_benchmark/final_3O5N_all_rf_vina_random2000.csv is 1678\n",
      "Rank for the active native ligand /Users/yusufadeshina/Downloads/ppi_benchmark/final_3VKX_all_rf_vina_random2000.csv is 1638\n",
      "Rank for the active native ligand /Users/yusufadeshina/Downloads/ppi_benchmark/final_3ZRC_all_rf_vina_random2000.csv is 1876\n",
      "Rank for the active native ligand /Users/yusufadeshina/Downloads/ppi_benchmark/final_4G55_all_rf_vina_random2000.csv is 816\n",
      "||||||||||||||||||||||||||||||Processing PLECnn_p5_l1_s65536 ||||||||||||||||||||||||||||||||||||| \n",
      "\n",
      "Rank for the active native ligand /Users/yusufadeshina/Downloads/ppi_benchmark/final_1PW6_all_rf_vina_random2000.csv is 533\n",
      "Rank for the active native ligand /Users/yusufadeshina/Downloads/ppi_benchmark/final_1R6N_all_rf_vina_random2000.csv is 5\n",
      "Rank for the active native ligand /Users/yusufadeshina/Downloads/ppi_benchmark/final_1Y2F_all_rf_vina_random2000.csv is 737\n",
      "Rank for the active native ligand /Users/yusufadeshina/Downloads/ppi_benchmark/final_2AZ5_all_rf_vina_random2000.csv is 630\n",
      "Rank for the active native ligand /Users/yusufadeshina/Downloads/ppi_benchmark/final_2KP8_all_rf_vina_random2000.csv is 274\n",
      "Rank for the active native ligand /Users/yusufadeshina/Downloads/ppi_benchmark/final_3IN7_all_rf_vina_random2000.csv is 1216\n",
      "Rank for the active native ligand /Users/yusufadeshina/Downloads/ppi_benchmark/final_3O5N_all_rf_vina_random2000.csv is 935\n",
      "Rank for the active native ligand /Users/yusufadeshina/Downloads/ppi_benchmark/final_3VKX_all_rf_vina_random2000.csv is 1611\n",
      "Rank for the active native ligand /Users/yusufadeshina/Downloads/ppi_benchmark/final_3ZRC_all_rf_vina_random2000.csv is 1874\n",
      "Rank for the active native ligand /Users/yusufadeshina/Downloads/ppi_benchmark/final_4G55_all_rf_vina_random2000.csv is 1709\n",
      "||||||||||||||||||||||||||||||Processing PLECrf_p5_l1_s65536 ||||||||||||||||||||||||||||||||||||| \n",
      "\n",
      "Rank for the active native ligand /Users/yusufadeshina/Downloads/ppi_benchmark/final_1PW6_all_rf_vina_random2000.csv is 229\n",
      "Rank for the active native ligand /Users/yusufadeshina/Downloads/ppi_benchmark/final_1R6N_all_rf_vina_random2000.csv is 44\n",
      "Rank for the active native ligand /Users/yusufadeshina/Downloads/ppi_benchmark/final_1Y2F_all_rf_vina_random2000.csv is 475\n",
      "Rank for the active native ligand /Users/yusufadeshina/Downloads/ppi_benchmark/final_2AZ5_all_rf_vina_random2000.csv is 1145\n",
      "Rank for the active native ligand /Users/yusufadeshina/Downloads/ppi_benchmark/final_2KP8_all_rf_vina_random2000.csv is 145\n",
      "Rank for the active native ligand /Users/yusufadeshina/Downloads/ppi_benchmark/final_3IN7_all_rf_vina_random2000.csv is 1310\n",
      "Rank for the active native ligand /Users/yusufadeshina/Downloads/ppi_benchmark/final_3O5N_all_rf_vina_random2000.csv is 1030\n",
      "Rank for the active native ligand /Users/yusufadeshina/Downloads/ppi_benchmark/final_3VKX_all_rf_vina_random2000.csv is 1404\n",
      "Rank for the active native ligand /Users/yusufadeshina/Downloads/ppi_benchmark/final_3ZRC_all_rf_vina_random2000.csv is 1902\n",
      "Rank for the active native ligand /Users/yusufadeshina/Downloads/ppi_benchmark/final_4G55_all_rf_vina_random2000.csv is 1755\n",
      "||||||||||||||||||||||||||||||Processing vina_affinity ||||||||||||||||||||||||||||||||||||| \n",
      "\n",
      "Rank for the active native ligand /Users/yusufadeshina/Downloads/ppi_benchmark/final_1PW6_all_rf_vina_random2000.csv is 64\n",
      "Rank for the active native ligand /Users/yusufadeshina/Downloads/ppi_benchmark/final_1R6N_all_rf_vina_random2000.csv is 193\n",
      "Rank for the active native ligand /Users/yusufadeshina/Downloads/ppi_benchmark/final_1Y2F_all_rf_vina_random2000.csv is 924\n",
      "Rank for the active native ligand /Users/yusufadeshina/Downloads/ppi_benchmark/final_2AZ5_all_rf_vina_random2000.csv is 511\n",
      "Rank for the active native ligand /Users/yusufadeshina/Downloads/ppi_benchmark/final_2KP8_all_rf_vina_random2000.csv is 1354\n",
      "Rank for the active native ligand /Users/yusufadeshina/Downloads/ppi_benchmark/final_3IN7_all_rf_vina_random2000.csv is 357\n",
      "Rank for the active native ligand /Users/yusufadeshina/Downloads/ppi_benchmark/final_3O5N_all_rf_vina_random2000.csv is 934\n"
     ]
    },
    {
     "name": "stdout",
     "output_type": "stream",
     "text": [
      "Rank for the active native ligand /Users/yusufadeshina/Downloads/ppi_benchmark/final_3VKX_all_rf_vina_random2000.csv is 1180\n",
      "Rank for the active native ligand /Users/yusufadeshina/Downloads/ppi_benchmark/final_3ZRC_all_rf_vina_random2000.csv is 1849\n",
      "Rank for the active native ligand /Users/yusufadeshina/Downloads/ppi_benchmark/final_4G55_all_rf_vina_random2000.csv is 658\n"
     ]
    }
   ],
   "source": [
    "rank_dict = {}\n",
    "for score in ['nnscore','rfscore_v1','rfscore_v3','rfscore_v2',\n",
    "                'PLEClinear_p5_l1_s65536','PLECnn_p5_l1_s65536',\n",
    "                  'PLECrf_p5_l1_s65536','vina_affinity']:\n",
    "    print ('||||||||||||||||||||||||||||||Processing',score,'|||||||||||||||||||||||||||||||||||||',\"\\n\")\n",
    "    rank_list_other={}\n",
    "    for i in ppi_tag:\n",
    "        ifile = PAPER_FIGURE_DIR+'/ppi/final_'+str(i)+'_all_rf_vina_random2000.csv'\n",
    "        compounds_list2 = pd.read_csv(ifile, encoding=\"utf-8-sig\",delimiter=' ')\n",
    "        rank_other=predict_rank_active_other(compounds_list2,score,ifile)\n",
    "        rank_list_other[i] = rank_other\n",
    "    #print np.mean(rank_list_other),\"+/-\",np.std(rank_list_other)\n",
    "    rank_dict[score] = rank_list_other\n",
    "df_vina_others = pd.DataFrame.from_dict(rank_dict)    "
   ]
  },
  {
   "cell_type": "code",
   "execution_count": 9,
   "metadata": {},
   "outputs": [],
   "source": [
    "#rfscorevs\n",
    "def predict_rank_active_rf(test_x,name):\n",
    "\n",
    "    no_of_points =float(len(test_x))\n",
    "\n",
    "    sort_final = test_x.sort_values(by='Score', ascending=False)\n",
    "    rank=list(sort_final[\"Label\"]).index(1)+1\n",
    "    #print \"Rank for\", name , \"=\", rank\n",
    "    print ('Rank for the active native ligand in {} is {}'.format(name, rank+1))\n",
    "    #print sort_final.head()\n",
    "    return rank"
   ]
  },
  {
   "cell_type": "code",
   "execution_count": 11,
   "metadata": {},
   "outputs": [
    {
     "name": "stdout",
     "output_type": "stream",
     "text": [
      "||||||||||||||||||||||||||||||Processing RFSCORE VS ||||||||||||||||||||||||||||||||||||| \n",
      "\n",
      "Rank for the active native ligand in /Users/yusufadeshina/Downloads/ppi_benchmark/final_1PW6_rfscorevs_random2000full.csv is 1289\n",
      "Rank for the active native ligand in /Users/yusufadeshina/Downloads/ppi_benchmark/final_1R6N_rfscorevs_random2000full.csv is 308\n",
      "Rank for the active native ligand in /Users/yusufadeshina/Downloads/ppi_benchmark/final_1Y2F_rfscorevs_random2000full.csv is 1528\n",
      "Rank for the active native ligand in /Users/yusufadeshina/Downloads/ppi_benchmark/final_2AZ5_rfscorevs_random2000full.csv is 83\n",
      "Rank for the active native ligand in /Users/yusufadeshina/Downloads/ppi_benchmark/final_2KP8_rfscorevs_random2000full.csv is 420\n",
      "Rank for the active native ligand in /Users/yusufadeshina/Downloads/ppi_benchmark/final_3IN7_rfscorevs_random2000full.csv is 308\n",
      "Rank for the active native ligand in /Users/yusufadeshina/Downloads/ppi_benchmark/final_3O5N_rfscorevs_random2000full.csv is 495\n",
      "Rank for the active native ligand in /Users/yusufadeshina/Downloads/ppi_benchmark/final_3VKX_rfscorevs_random2000full.csv is 1147\n",
      "Rank for the active native ligand in /Users/yusufadeshina/Downloads/ppi_benchmark/final_3ZRC_rfscorevs_random2000full.csv is 56\n",
      "Rank for the active native ligand in /Users/yusufadeshina/Downloads/ppi_benchmark/final_4G55_rfscorevs_random2000full.csv is 1913\n"
     ]
    }
   ],
   "source": [
    "print ('||||||||||||||||||||||||||||||Processing RFSCORE VS |||||||||||||||||||||||||||||||||||||',\"\\n\")\n",
    "\n",
    "rank_dict_rfscorevs={}\n",
    "for i in ppi_tag:\n",
    "    ifile = '/Users/yusufadeshina/Downloads/ppi_benchmark/final_'+str(i)+'_rfscorevs_random2000full.csv'\n",
    "    \n",
    "    compounds_list2 = pd.read_csv(ifile, encoding=\"utf-8-sig\")\n",
    "    rank_other=predict_rank_active_rf(compounds_list2,ifile)\n",
    "    rank_dict_rfscorevs[i] = rank_other\n",
    "df_rfscorevs = pd.DataFrame.from_dict({\"rfscorevs\":rank_dict_rfscorevs})\n",
    "#df_rfscorevs.rename(columns={\"0\": \"rfscorevs\"})\n",
    "#print np.mean(rank_list_rfscorevs),\"+/-\",np.std(rank_list_rfscorevs)"
   ]
  },
  {
   "cell_type": "code",
   "execution_count": 12,
   "metadata": {},
   "outputs": [],
   "source": [
    "#vscreenml\n",
    "def predict_rank(model,test_x,predictors,name):\n",
    "    actual_positive=float(len(test_x[test_x[\"Label\"] == 1]))\n",
    "\n",
    "    no_of_points =float(len(test_x))\n",
    "    \n",
    "    random_hit_rate = float(actual_positive/no_of_points) *100\n",
    "    #print actual_positive\n",
    "    dtest_predict = model.predict(test_x[predictors])\n",
    "    dtest_prob = model.predict_proba(test_x[predictors])[:,1]\n",
    "    test_x_pred = test_x.copy()\n",
    "    test_x_pred['prediction'] = dtest_predict\n",
    "    test_x_pred['probability'] = dtest_prob\n",
    "    \n",
    "    test_x_final1 = pd.DataFrame()\n",
    "    test_x_final1['Name'] = test_x_pred['Name']\n",
    "    test_x_final1['Score'] = test_x_pred['probability']\n",
    "    test_x_final1['Prediction'] = test_x_pred['prediction']\n",
    "    test_x_final1['Label'] = test_x_pred[target]\n",
    "    sort_final = test_x_final1.sort_values(by='Score', ascending=False)\n",
    "    \n",
    "    rank=list(sort_final[\"Label\"]).index(1)+1\n",
    "    #print \"Rank for\", name , \"=\", rank\n",
    "    print ('Rank for the active native ligand in {} is {}'.format(name, rank+1))\n",
    "    #print sort_final.head()\n",
    "    return rank"
   ]
  },
  {
   "cell_type": "code",
   "execution_count": 13,
   "metadata": {},
   "outputs": [],
   "source": [
    "with open('/Users/yusufadeshina/Downloads/XGB_CLASSIFIER_alldata.pickle.dat', 'rb') as f:\n",
    "    clf = pickle.load(f)"
   ]
  },
  {
   "cell_type": "code",
   "execution_count": 15,
   "metadata": {},
   "outputs": [
    {
     "name": "stdout",
     "output_type": "stream",
     "text": [
      "||||||||||||||||||||||||||||||Processing vScreenML||||||||||||||||||||||||||||||||||||| \n",
      "\n",
      "Rank for the active native ligand in /Users/yusufadeshina/Downloads/ppi_benchmark/1PW6_combined_random2000.csv is 3\n",
      "Rank for the active native ligand in /Users/yusufadeshina/Downloads/ppi_benchmark/1R6N_combined_random2000.csv is 922\n",
      "Rank for the active native ligand in /Users/yusufadeshina/Downloads/ppi_benchmark/1Y2F_combined_random2000.csv is 42\n",
      "Rank for the active native ligand in /Users/yusufadeshina/Downloads/ppi_benchmark/2AZ5_combined_random2000.csv is 179\n",
      "Rank for the active native ligand in /Users/yusufadeshina/Downloads/ppi_benchmark/2KP8_combined_random2000.csv is 148\n",
      "Rank for the active native ligand in /Users/yusufadeshina/Downloads/ppi_benchmark/3IN7_combined_random2000.csv is 10\n",
      "Rank for the active native ligand in /Users/yusufadeshina/Downloads/ppi_benchmark/3O5N_combined_random2000.csv is 51\n",
      "Rank for the active native ligand in /Users/yusufadeshina/Downloads/ppi_benchmark/3VKX_combined_random2000.csv is 34\n",
      "Rank for the active native ligand in /Users/yusufadeshina/Downloads/ppi_benchmark/3ZRC_combined_random2000.csv is 641\n",
      "Rank for the active native ligand in /Users/yusufadeshina/Downloads/ppi_benchmark/4G55_combined_random2000.csv is 889\n"
     ]
    }
   ],
   "source": [
    "print ('||||||||||||||||||||||||||||||Processing vScreenML|||||||||||||||||||||||||||||||||||||',\"\\n\")\n",
    "\n",
    "rank_dict_vscreenml={}\n",
    "for i in ppi_tag:\n",
    "    ifile = '/Users/yusufadeshina/Downloads/ppi_benchmark/'+str(i)+'_combined_random2000.csv'\n",
    "    compounds_list2 = pd.read_csv(ifile, encoding=\"utf-8-sig\")\n",
    "    predictors = [x for x in compounds_list2.columns if x not in [target, IDcol]]\n",
    "    rank_other=predict_rank(clf,compounds_list2,predictors,ifile)\n",
    "    rank_dict_vscreenml[i]=rank_other\n",
    "df_vscreenml = pd.DataFrame.from_dict({\"vScreenML\":rank_dict_vscreenml})"
   ]
  },
  {
   "cell_type": "code",
   "execution_count": 16,
   "metadata": {},
   "outputs": [],
   "source": [
    "#rosetta\n",
    "def predict_rank_active(test_x,score,name,order=False):\n",
    "\n",
    "    no_of_points =float(len(test_x))\n",
    "\n",
    "    sort_final = test_x.sort_values(by=score, ascending=order)\n",
    "    rank=list(sort_final[\"Label\"]).index(1) +1\n",
    "    print ('Rank for the active native ligand in {} is {}'.format(name, rank+1))\n",
    "    #print sort_final.head()\n",
    "    return rank"
   ]
  },
  {
   "cell_type": "code",
   "execution_count": 17,
   "metadata": {},
   "outputs": [
    {
     "name": "stdout",
     "output_type": "stream",
     "text": [
      "||||||||||||||||||||||||||||||Processing Rosetta||||||||||||||||||||||||||||||||||||| \n",
      "\n",
      "Rank for the active native ligand in /Users/yusufadeshina/Downloads/ppi_benchmark/1PW6_rosetta_random2000full.csv is 13\n",
      "Rank for the active native ligand in /Users/yusufadeshina/Downloads/ppi_benchmark/1R6N_rosetta_random2000full.csv is 812\n",
      "Rank for the active native ligand in /Users/yusufadeshina/Downloads/ppi_benchmark/1Y2F_rosetta_random2000full.csv is 675\n",
      "Rank for the active native ligand in /Users/yusufadeshina/Downloads/ppi_benchmark/2AZ5_rosetta_random2000full.csv is 320\n",
      "Rank for the active native ligand in /Users/yusufadeshina/Downloads/ppi_benchmark/2KP8_rosetta_random2000full.csv is 1108\n",
      "Rank for the active native ligand in /Users/yusufadeshina/Downloads/ppi_benchmark/3IN7_rosetta_random2000full.csv is 61\n",
      "Rank for the active native ligand in /Users/yusufadeshina/Downloads/ppi_benchmark/3O5N_rosetta_random2000full.csv is 1038\n",
      "Rank for the active native ligand in /Users/yusufadeshina/Downloads/ppi_benchmark/3VKX_rosetta_random2000full.csv is 1252\n",
      "Rank for the active native ligand in /Users/yusufadeshina/Downloads/ppi_benchmark/3ZRC_rosetta_random2000full.csv is 1701\n",
      "Rank for the active native ligand in /Users/yusufadeshina/Downloads/ppi_benchmark/4G55_rosetta_random2000full.csv is 1168\n"
     ]
    }
   ],
   "source": [
    "print ('||||||||||||||||||||||||||||||Processing Rosetta|||||||||||||||||||||||||||||||||||||',\"\\n\")\n",
    "rank_dict_rosetta={}\n",
    "for i in ppi_tag:\n",
    "    ifile = '/Users/yusufadeshina/Downloads/ppi_benchmark/'+str(i)+'_rosetta_random2000full.csv'\n",
    "    compounds_list2 = pd.read_csv(ifile, encoding=\"utf-8-sig\",sep=' ')\n",
    "    #print compounds_list2.columns\n",
    "    rank_other=predict_rank_active(compounds_list2,'Interface_Energy',ifile,True)\n",
    "    rank_dict_rosetta[i] = rank_other\n",
    "df_rosetta = pd.DataFrame.from_dict({\"Rosetta\":rank_dict_rosetta})\n",
    "#print np.mean(rank_list_rosetta),\"+/-\",np.std(rank_list_rosetta)"
   ]
  },
  {
   "cell_type": "code",
   "execution_count": 18,
   "metadata": {},
   "outputs": [],
   "source": [
    "pd_rank = pd.concat((df_vscreenml,df_rosetta,df_vina_others,df_rfscorevs),axis=1)"
   ]
  },
  {
   "cell_type": "code",
   "execution_count": 19,
   "metadata": {},
   "outputs": [
    {
     "data": {
      "text/html": [
       "<div>\n",
       "<style scoped>\n",
       "    .dataframe tbody tr th:only-of-type {\n",
       "        vertical-align: middle;\n",
       "    }\n",
       "\n",
       "    .dataframe tbody tr th {\n",
       "        vertical-align: top;\n",
       "    }\n",
       "\n",
       "    .dataframe thead th {\n",
       "        text-align: right;\n",
       "    }\n",
       "</style>\n",
       "<table border=\"1\" class=\"dataframe\">\n",
       "  <thead>\n",
       "    <tr style=\"text-align: right;\">\n",
       "      <th></th>\n",
       "      <th>vScreenML</th>\n",
       "      <th>Rosetta</th>\n",
       "      <th>nnscore</th>\n",
       "      <th>rfscore_v1</th>\n",
       "      <th>rfscore_v3</th>\n",
       "      <th>rfscore_v2</th>\n",
       "      <th>PLEClinear_p5_l1_s65536</th>\n",
       "      <th>PLECnn_p5_l1_s65536</th>\n",
       "      <th>PLECrf_p5_l1_s65536</th>\n",
       "      <th>vina_affinity</th>\n",
       "      <th>rfscorevs</th>\n",
       "    </tr>\n",
       "  </thead>\n",
       "  <tbody>\n",
       "    <tr>\n",
       "      <td>1PW6</td>\n",
       "      <td>2</td>\n",
       "      <td>12</td>\n",
       "      <td>29</td>\n",
       "      <td>102</td>\n",
       "      <td>145</td>\n",
       "      <td>92</td>\n",
       "      <td>635</td>\n",
       "      <td>532</td>\n",
       "      <td>228</td>\n",
       "      <td>63</td>\n",
       "      <td>1288</td>\n",
       "    </tr>\n",
       "    <tr>\n",
       "      <td>1R6N</td>\n",
       "      <td>921</td>\n",
       "      <td>811</td>\n",
       "      <td>204</td>\n",
       "      <td>513</td>\n",
       "      <td>240</td>\n",
       "      <td>242</td>\n",
       "      <td>30</td>\n",
       "      <td>4</td>\n",
       "      <td>43</td>\n",
       "      <td>192</td>\n",
       "      <td>307</td>\n",
       "    </tr>\n",
       "    <tr>\n",
       "      <td>1Y2F</td>\n",
       "      <td>41</td>\n",
       "      <td>674</td>\n",
       "      <td>1822</td>\n",
       "      <td>333</td>\n",
       "      <td>511</td>\n",
       "      <td>250</td>\n",
       "      <td>305</td>\n",
       "      <td>736</td>\n",
       "      <td>474</td>\n",
       "      <td>923</td>\n",
       "      <td>1527</td>\n",
       "    </tr>\n",
       "    <tr>\n",
       "      <td>2AZ5</td>\n",
       "      <td>178</td>\n",
       "      <td>319</td>\n",
       "      <td>1904</td>\n",
       "      <td>282</td>\n",
       "      <td>628</td>\n",
       "      <td>249</td>\n",
       "      <td>558</td>\n",
       "      <td>629</td>\n",
       "      <td>1144</td>\n",
       "      <td>510</td>\n",
       "      <td>82</td>\n",
       "    </tr>\n",
       "    <tr>\n",
       "      <td>2KP8</td>\n",
       "      <td>147</td>\n",
       "      <td>1107</td>\n",
       "      <td>1615</td>\n",
       "      <td>740</td>\n",
       "      <td>1145</td>\n",
       "      <td>1534</td>\n",
       "      <td>1337</td>\n",
       "      <td>273</td>\n",
       "      <td>144</td>\n",
       "      <td>1353</td>\n",
       "      <td>419</td>\n",
       "    </tr>\n",
       "    <tr>\n",
       "      <td>3IN7</td>\n",
       "      <td>9</td>\n",
       "      <td>60</td>\n",
       "      <td>1649</td>\n",
       "      <td>613</td>\n",
       "      <td>436</td>\n",
       "      <td>762</td>\n",
       "      <td>1637</td>\n",
       "      <td>1215</td>\n",
       "      <td>1309</td>\n",
       "      <td>356</td>\n",
       "      <td>307</td>\n",
       "    </tr>\n",
       "    <tr>\n",
       "      <td>3O5N</td>\n",
       "      <td>50</td>\n",
       "      <td>1037</td>\n",
       "      <td>1995</td>\n",
       "      <td>1847</td>\n",
       "      <td>1918</td>\n",
       "      <td>1813</td>\n",
       "      <td>1677</td>\n",
       "      <td>934</td>\n",
       "      <td>1029</td>\n",
       "      <td>933</td>\n",
       "      <td>494</td>\n",
       "    </tr>\n",
       "    <tr>\n",
       "      <td>3VKX</td>\n",
       "      <td>33</td>\n",
       "      <td>1251</td>\n",
       "      <td>1985</td>\n",
       "      <td>1966</td>\n",
       "      <td>1919</td>\n",
       "      <td>1970</td>\n",
       "      <td>1637</td>\n",
       "      <td>1610</td>\n",
       "      <td>1403</td>\n",
       "      <td>1179</td>\n",
       "      <td>1146</td>\n",
       "    </tr>\n",
       "    <tr>\n",
       "      <td>3ZRC</td>\n",
       "      <td>640</td>\n",
       "      <td>1700</td>\n",
       "      <td>1982</td>\n",
       "      <td>1914</td>\n",
       "      <td>1896</td>\n",
       "      <td>1981</td>\n",
       "      <td>1875</td>\n",
       "      <td>1873</td>\n",
       "      <td>1901</td>\n",
       "      <td>1848</td>\n",
       "      <td>55</td>\n",
       "    </tr>\n",
       "    <tr>\n",
       "      <td>4G55</td>\n",
       "      <td>888</td>\n",
       "      <td>1167</td>\n",
       "      <td>1347</td>\n",
       "      <td>1544</td>\n",
       "      <td>1515</td>\n",
       "      <td>1832</td>\n",
       "      <td>815</td>\n",
       "      <td>1708</td>\n",
       "      <td>1754</td>\n",
       "      <td>657</td>\n",
       "      <td>1912</td>\n",
       "    </tr>\n",
       "  </tbody>\n",
       "</table>\n",
       "</div>"
      ],
      "text/plain": [
       "      vScreenML  Rosetta  nnscore  rfscore_v1  rfscore_v3  rfscore_v2  \\\n",
       "1PW6          2       12       29         102         145          92   \n",
       "1R6N        921      811      204         513         240         242   \n",
       "1Y2F         41      674     1822         333         511         250   \n",
       "2AZ5        178      319     1904         282         628         249   \n",
       "2KP8        147     1107     1615         740        1145        1534   \n",
       "3IN7          9       60     1649         613         436         762   \n",
       "3O5N         50     1037     1995        1847        1918        1813   \n",
       "3VKX         33     1251     1985        1966        1919        1970   \n",
       "3ZRC        640     1700     1982        1914        1896        1981   \n",
       "4G55        888     1167     1347        1544        1515        1832   \n",
       "\n",
       "      PLEClinear_p5_l1_s65536  PLECnn_p5_l1_s65536  PLECrf_p5_l1_s65536  \\\n",
       "1PW6                      635                  532                  228   \n",
       "1R6N                       30                    4                   43   \n",
       "1Y2F                      305                  736                  474   \n",
       "2AZ5                      558                  629                 1144   \n",
       "2KP8                     1337                  273                  144   \n",
       "3IN7                     1637                 1215                 1309   \n",
       "3O5N                     1677                  934                 1029   \n",
       "3VKX                     1637                 1610                 1403   \n",
       "3ZRC                     1875                 1873                 1901   \n",
       "4G55                      815                 1708                 1754   \n",
       "\n",
       "      vina_affinity  rfscorevs  \n",
       "1PW6             63       1288  \n",
       "1R6N            192        307  \n",
       "1Y2F            923       1527  \n",
       "2AZ5            510         82  \n",
       "2KP8           1353        419  \n",
       "3IN7            356        307  \n",
       "3O5N            933        494  \n",
       "3VKX           1179       1146  \n",
       "3ZRC           1848         55  \n",
       "4G55            657       1912  "
      ]
     },
     "execution_count": 19,
     "metadata": {},
     "output_type": "execute_result"
    }
   ],
   "source": [
    "pd_rank"
   ]
  },
  {
   "cell_type": "code",
   "execution_count": null,
   "metadata": {},
   "outputs": [],
   "source": [
    "#for publication quality plotting in prism\n",
    "pd_rank.to_csv('/Users/yusufadeshina/Downloads/ppi_benchmark/ppi_benchmark_full_no_train.csv')"
   ]
  },
  {
   "cell_type": "code",
   "execution_count": null,
   "metadata": {},
   "outputs": [],
   "source": [
    "for column in columns:\n",
    "    plot_benchmark_graph('vScreenML',column)"
   ]
  },
  {
   "cell_type": "markdown",
   "metadata": {},
   "source": [
    "### DEKOIS BENCHMARK"
   ]
  },
  {
   "cell_type": "code",
   "execution_count": null,
   "metadata": {},
   "outputs": [],
   "source": [
    "def predict_from_rf_otherscore(test_x,score,name):\n",
    "    actual_positive=float(len(test_x[test_x[\"Label\"] == 1]))\n",
    "    \n",
    "    no_of_points =float(len(test_x))\n",
    "    \n",
    "    random_hit_rate = float(actual_positive/no_of_points) *100\n",
    "\n",
    "    sort_final = test_x.sort_values(by=score, ascending=False)\n",
    "    one_percent = int (len(sort_final['Name'].tolist()) * 0.01)\n",
    "    #print one_percent\n",
    "    #Print model report:\n",
    "    #print \"\\nPrediction Report\"\n",
    "    #print \"Accuracy(Test) : %.4g\" % metrics.accuracy_score(test_x['label'].values, dtest_predict)\n",
    "    #print \"AUC Score (Test): %f\" % metrics.roc_auc_score(test_x['label'], dtest_prob)\n",
    "    #print len(sort_final['PDB'].tolist()),\"complexes are active\"\n",
    "    one_percent_df = sort_final.head(one_percent)\n",
    "    #print one_percent_df\n",
    "    #true_positive=float(len(one_percent_df[(one_percent_df[score] > 6.0) & (one_percent_df.Label == 1)]))\n",
    "    true_positive=float(len(one_percent_df[(one_percent_df.Label == 1)]))\n",
    "    #print true_positive\n",
    "    hit_rate = true_positive/one_percent*100\n",
    "    \n",
    "    enrichment = hit_rate/random_hit_rate\n",
    "    \n",
    "    print (\"Enrichment for\", name , \"=\", enrichment)\n",
    "    return enrichment"
   ]
  },
  {
   "cell_type": "code",
   "execution_count": null,
   "metadata": {},
   "outputs": [],
   "source": [
    "def predict_rank_log_roc_1percent_enrichment_other(model, test_x, predictors, scores):\n",
    "    \n",
    "    random_hit_rate = test_x['Label'].sum()/float(len(test_x['Label']))*100\n",
    "\n",
    "    \n",
    "    dtest_pred = model.predict_proba(test_x[predictors])[:,1]\n",
    "    test_x[\"vScreenML\"] = dtest_pred\n",
    "\n",
    "    scores.extend([\"vScreenML\",\"Interface_Energy\"])\n",
    "    \n",
    "\n",
    "    \n",
    "    enrichment_dict = {}\n",
    "    for score in scores:\n",
    "        #print (y_test.dtypes, test_x[score].dtypes)\n",
    "                    \n",
    "        if score == 'vina_affinity' or score == 'Interface_Energy':\n",
    "                sort_final = test_x.sort_values(by=score, ascending=True)\n",
    "                #print (sort_final.head())\n",
    "                one_percent = int (len(sort_final['Name'].tolist()) * 0.01)\n",
    "                one_percent_df = sort_final.head(one_percent)\n",
    "                true_positive=float(len(one_percent_df[(one_percent_df.Label == 1)]))\n",
    "                hit_rate = true_positive/one_percent*100    \n",
    "                enrichment = hit_rate/random_hit_rate\n",
    "                enrichment_dict[score] = enrichment\n",
    "        else:\n",
    "                sort_final = test_x.sort_values(by=score, ascending=False)\n",
    "                one_percent = int (len(sort_final['Name'].tolist()) * 0.01)\n",
    "                one_percent_df = sort_final.head(one_percent)\n",
    "                true_positive=float(len(one_percent_df[(one_percent_df.Label == 1)]))\n",
    "                hit_rate = true_positive/one_percent*100    \n",
    "                enrichment = hit_rate/random_hit_rate\n",
    "                enrichment_dict[score] = enrichment\n",
    "                \n",
    "    return enrichment_dict"
   ]
  },
  {
   "cell_type": "code",
   "execution_count": null,
   "metadata": {},
   "outputs": [],
   "source": [
    "enrich_dict ={}\n",
    "for ifile in tags:\n",
    "    compounds_list = pd.read_csv('/Users/yusufadeshina/Downloads/DEKOIS2.0_library/recombined_result082319/'+ifile+'_full_set_of_all_scoring_function.csv', encoding=\"utf-8-sig\")\n",
    "    scores = ['nnscore','rfscore_v1','rfscore_v3','rfscore_v2','PLEClinear_p5_l1_s65536','PLECnn_p5_l1_s65536','PLECrf_p5_l1_s65536','vina_affinity','rfscorevs']\n",
    "    predictors = [x for x in compounds_list.columns if x not in [target, IDcol] and x not in scores]\n",
    "    enrich_dict[ifile] = predict_rank_log_roc_1percent_enrichment_other(clf, compounds_list, predictors,scores )"
   ]
  },
  {
   "cell_type": "code",
   "execution_count": null,
   "metadata": {},
   "outputs": [],
   "source": [
    "enrich_df = pd.DataFrame.from_dict(enrich_dict,orient='index')"
   ]
  },
  {
   "cell_type": "code",
   "execution_count": null,
   "metadata": {},
   "outputs": [],
   "source": [
    "enrich_df"
   ]
  },
  {
   "cell_type": "code",
   "execution_count": null,
   "metadata": {},
   "outputs": [],
   "source": [
    "enrich_df.to_csv('~/utilities_for_goldi_paper/enrichment_one_percent.csv')"
   ]
  },
  {
   "cell_type": "markdown",
   "metadata": {},
   "source": [
    "### P-values"
   ]
  },
  {
   "cell_type": "code",
   "execution_count": null,
   "metadata": {},
   "outputs": [],
   "source": [
    "from numpy.random import seed\n",
    "from numpy.random import randn\n",
    "from scipy.stats import wilcoxon\n",
    "\n",
    "def wilcoxon_signed(data1, data2):\n",
    "\n",
    "    stat, p = wilcoxon(data1, data2)\n",
    "    print('Statistics=%.3f, p=%.5f' % (stat, p))\n",
    "    # interpret\n",
    "    alpha = 0.05\n",
    "    if p > alpha:\n",
    "        print('Same distribution (fail to reject H0)')\n",
    "    else:\n",
    "        print('Different distribution (reject H0)')\n",
    "\n"
   ]
  },
  {
   "cell_type": "markdown",
   "metadata": {},
   "source": [
    "##### DEKOIS"
   ]
  },
  {
   "cell_type": "code",
   "execution_count": null,
   "metadata": {},
   "outputs": [],
   "source": [
    "columns = [i for i in enrich_df.columns if i not in ['Name']]\n",
    "seen = []\n",
    "for i in columns:\n",
    "    for j in columns:\n",
    "        if i != j:\n",
    "            print ('|||||||||||||||Comapring ' + i +' and '+ j+ '\\t|||||||||||||||||||||||') \n",
    "            wilcoxon_signed(enrich_df[i], enrich_df[j])\n",
    "            print ('||||||||||||||||||||||||||||||||||||||||||||||||||||||||||||||||||\\n') "
   ]
  },
  {
   "cell_type": "markdown",
   "metadata": {},
   "source": [
    "### RFSCORE_V1 MODEL FOR OUR DATASET"
   ]
  },
  {
   "cell_type": "code",
   "execution_count": null,
   "metadata": {},
   "outputs": [],
   "source": [
    "def predict_rank_log_roc_1percent_enrichment_other(model_all,model_rf, test_x, predictors,predictors_rf, scores):\n",
    "    \n",
    "    random_hit_rate = test_x['Label'].sum()/float(len(test_x['Label']))*100\n",
    "\n",
    "    \n",
    "    dtest_pred = model_all.predict_proba(test_x[predictors])[:,1]\n",
    "    test_x[\"vScreenML\"] = dtest_pred\n",
    "    \n",
    "    dtest_pred_rf = model_rf.predict_proba(test_x[predictors_rf])[:,1]\n",
    "    test_x[\"RFSCORE_V1_remade\"] = dtest_pred_rf\n",
    "\n",
    "    scores.extend([\"vScreenML\",\"Interface_Energy\",\"RFSCORE_V1_remade\"])\n",
    "    \n",
    "\n",
    "    \n",
    "    enrichment_dict = {}\n",
    "    rank_dict = {}\n",
    "    for score in scores:\n",
    "        #print (y_test.dtypes, test_x[score].dtypes)\n",
    "                    \n",
    "        if score == 'vina_affinity' or score == 'Interface_Energy':\n",
    "                sort_final = test_x.sort_values(by=score, ascending=True)\n",
    "                rank=list(sort_final[\"Label\"]).index(1)+1\n",
    "                #print (sort_final.head())\n",
    "                one_percent = int (len(sort_final['Name'].tolist()) * 0.01)\n",
    "                one_percent_df = sort_final.head(one_percent)\n",
    "                true_positive=float(len(one_percent_df[(one_percent_df.Label == 1)]))\n",
    "                hit_rate = true_positive/one_percent*100    \n",
    "                enrichment = hit_rate/random_hit_rate\n",
    "                enrichment_dict[score] = enrichment\n",
    "                rank_dict[score] = rank\n",
    "        else:\n",
    "                sort_final = test_x.sort_values(by=score, ascending=False)\n",
    "                rank=list(sort_final[\"Label\"]).index(1)+1\n",
    "                one_percent = int (len(sort_final['Name'].tolist()) * 0.01)\n",
    "                one_percent_df = sort_final.head(one_percent)\n",
    "                true_positive=float(len(one_percent_df[(one_percent_df.Label == 1)]))\n",
    "                hit_rate = true_positive/one_percent*100    \n",
    "                enrichment = hit_rate/random_hit_rate\n",
    "                enrichment_dict[score] = enrichment\n",
    "                rank_dict[score] = rank\n",
    "                \n",
    "    return enrichment_dict, rank_dict"
   ]
  },
  {
   "cell_type": "code",
   "execution_count": null,
   "metadata": {},
   "outputs": [],
   "source": [
    "with open('/Users/yusufadeshina/Downloads/all_ipython_notenook/RFSCORE_V1_RETRAINED_WITH_OUR_DATA.pickle.dat', 'rb') as f:\n",
    "    clf_rf = pickle.load(f)"
   ]
  },
  {
   "cell_type": "code",
   "execution_count": null,
   "metadata": {},
   "outputs": [],
   "source": [
    "predictors_rf = [\n",
    "    '6.6','7.6','8.6','16.6','6.7','7.7','8.7','16.7','6.8',\n",
    "    '7.8','8.8','16.8','6.9','7.9','8.9','16.9','6.15','7.15',\n",
    "    '8.15','16.15','6.16','7.16','8.16','16.16','6.17','7.17',\n",
    "    '8.17','16.17','6.35','7.35','8.35','16.35','6.53','7.53',\n",
    "    '8.53','16.53']"
   ]
  },
  {
   "cell_type": "code",
   "execution_count": null,
   "metadata": {},
   "outputs": [],
   "source": [
    "enrich_dict ={}\n",
    "for ifile in tags:\n",
    "    compounds_list = pd.read_csv('/Users/yusufadeshina/Downloads/DEKOIS2.0_library/recombined_result082319/'+ifile+'_full_set_of_all_scoring_function.csv', encoding=\"utf-8-sig\")\n",
    "    scores = ['RFSCORE_V1_remade', 'nnscore','rfscore_v1','rfscore_v3','rfscore_v2','PLEClinear_p5_l1_s65536','PLECnn_p5_l1_s65536','PLECrf_p5_l1_s65536','vina_affinity','rfscorevs']\n",
    "    predictors = [x for x in compounds_list.columns if x not in [target, IDcol] and x not in scores]\n",
    "    enrich_dict[ifile],_ = predict_rank_log_roc_1percent_enrichment_other(clf,clf_rf, compounds_list, predictors,predictors_rf, scores )"
   ]
  },
  {
   "cell_type": "code",
   "execution_count": null,
   "metadata": {},
   "outputs": [],
   "source": [
    "enrich_df = pd.DataFrame.from_dict(enrich_dict,orient='index')"
   ]
  },
  {
   "cell_type": "code",
   "execution_count": null,
   "metadata": {},
   "outputs": [],
   "source": [
    "enrich_df"
   ]
  },
  {
   "cell_type": "code",
   "execution_count": null,
   "metadata": {},
   "outputs": [],
   "source": [
    "columns = [i for i in enrich_df.columns if i not in ['Name']]\n",
    "seen = []\n",
    "for i in columns:\n",
    "    for j in columns:\n",
    "        if i != j:\n",
    "            print ('|||||||||||||||Comapring ' + i +' and '+ j+ '\\t|||||||||||||||||||||||') \n",
    "            wilcoxon_signed(enrich_df[i], enrich_df[j])\n",
    "            print ('||||||||||||||||||||||||||||||||||||||||||||||||||||||||||||||||||\\n') "
   ]
  },
  {
   "cell_type": "code",
   "execution_count": null,
   "metadata": {},
   "outputs": [],
   "source": [
    "enrich_df.to_csv('/Users/yusufadeshina/utilities_for_goldi_paper/enrichment_one_percentwith_rfscorev1.csv')"
   ]
  },
  {
   "cell_type": "markdown",
   "metadata": {},
   "source": [
    "##### rank rfscore_v1_remade"
   ]
  },
  {
   "cell_type": "code",
   "execution_count": null,
   "metadata": {},
   "outputs": [],
   "source": [
    "rank_dict ={}\n",
    "for ifile in unseen_ppi:\n",
    "    compounds_list = pd.read_csv('/Users/yusufadeshina/Downloads/ppi_benchmark/'+ifile+'_ppi_full_set_of_all_scoring_function.csv', encoding=\"utf-8-sig\")\n",
    "    scores = ['RFSCORE_V1_remade', 'nnscore','rfscore_v1','rfscore_v3','rfscore_v2','PLEClinear_p5_l1_s65536','PLECnn_p5_l1_s65536','PLECrf_p5_l1_s65536','vina_affinity','rfscorevs']\n",
    "    predictors = [x for x in compounds_list.columns if x not in [target, IDcol] and x not in scores]\n",
    "    _, rank_dict[ifile] = predict_rank_log_roc_1percent_enrichment_other(clf,clf_rf, compounds_list, predictors,predictors_rf, scores )"
   ]
  },
  {
   "cell_type": "code",
   "execution_count": null,
   "metadata": {},
   "outputs": [],
   "source": [
    "rank_df = pd.DataFrame.from_dict(rank_dict,orient='index')"
   ]
  },
  {
   "cell_type": "code",
   "execution_count": null,
   "metadata": {},
   "outputs": [],
   "source": [
    "rank_df"
   ]
  },
  {
   "cell_type": "code",
   "execution_count": null,
   "metadata": {},
   "outputs": [],
   "source": [
    "columns = [i for i in rank_df.columns if i not in ['Name']]\n",
    "seen = []\n",
    "for i in columns:\n",
    "    for j in columns:\n",
    "        if i != j:\n",
    "            print ('|||||||||||||||Comapring ' + i +' and '+ j+ '\\t|||||||||||||||||||||||') \n",
    "            wilcoxon_signed(np.log(rank_df[i]), np.log(rank_df[j]))\n",
    "            print ('||||||||||||||||||||||||||||||||||||||||||||||||||||||||||||||||||\\n') "
   ]
  },
  {
   "cell_type": "code",
   "execution_count": null,
   "metadata": {},
   "outputs": [],
   "source": [
    "rank_df.to_csv('/Users/yusufadeshina/utilities_for_goldi_paper/rank_one_percentwith_rfscorev1.csv')"
   ]
  }
 ],
 "metadata": {
  "kernelspec": {
   "display_name": "Python 3",
   "language": "python",
   "name": "python3"
  },
  "language_info": {
   "codemirror_mode": {
    "name": "ipython",
    "version": 3
   },
   "file_extension": ".py",
   "mimetype": "text/x-python",
   "name": "python",
   "nbconvert_exporter": "python",
   "pygments_lexer": "ipython3",
   "version": "3.6.9"
  }
 },
 "nbformat": 4,
 "nbformat_minor": 2
}
